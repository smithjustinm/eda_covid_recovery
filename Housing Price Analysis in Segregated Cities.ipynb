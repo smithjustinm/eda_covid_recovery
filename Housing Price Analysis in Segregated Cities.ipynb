{
 "cells": [
  {
   "cell_type": "code",
   "execution_count": 1,
   "metadata": {},
   "outputs": [
    {
     "name": "stderr",
     "output_type": "stream",
     "text": [
      "Matplotlib is building the font cache; this may take a moment.\n"
     ]
    }
   ],
   "source": [
    "import numpy as np\n",
    "import pandas as pd\n",
    "import seaborn as sns\n",
    "import matplotlib.pyplot as plt\n",
    "\n",
    "%matplotlib inline"
   ]
  },
  {
   "cell_type": "markdown",
   "metadata": {},
   "source": [
    "# Track the Recovery Data\n",
    "\n",
    "Data from https://tracktherecovery.org was accessed on August 4, 2020 at https://github.com/OpportunityInsights/EconomicTracker.git\n",
    "\n",
    "The co-founder of Data 4 Black Lives, Yeshi Milner, presented a picture of Minnesota that differs from the image of a Fortune 500, progressive city. In the article, Yeshi shows the disparity of minority incomes and median home prices. As a native of Milwaukee, I wondered how the Milwaukee Metro area fared. Additionally, the rise in unemployment due to COVID-19 has reduced the wages of many. \n",
    "\n",
    "Yeshi's Medium article can be found [here](https://medium.com/@YESHICAN/data-for-black-lives-statement-of-solidarity-with-black-minnesotans-74a0ef0fbcb5)"
   ]
  },
  {
   "cell_type": "code",
   "execution_count": null,
   "metadata": {},
   "outputs": [],
   "source": [
    "ui_mil = pd.read_csv(\"./volumes/Users/Justin/data_project/\")"
   ]
  }
 ],
 "metadata": {
  "kernelspec": {
   "display_name": "Python 3",
   "language": "python",
   "name": "python3"
  },
  "language_info": {
   "codemirror_mode": {
    "name": "ipython",
    "version": 3
   },
   "file_extension": ".py",
   "mimetype": "text/x-python",
   "name": "python",
   "nbconvert_exporter": "python",
   "pygments_lexer": "ipython3",
   "version": "3.7.1"
  }
 },
 "nbformat": 4,
 "nbformat_minor": 2
}
